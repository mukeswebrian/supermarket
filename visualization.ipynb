{
 "cells": [
  {
   "cell_type": "markdown",
   "metadata": {},
   "source": [
    "### import libraries"
   ]
  },
  {
   "cell_type": "code",
   "execution_count": 5,
   "metadata": {},
   "outputs": [],
   "source": [
    "import pandas as pd\n",
    "from sqlalchemy import create_engine\n",
    "import matplotlib.pyplot as plt"
   ]
  },
  {
   "cell_type": "markdown",
   "metadata": {},
   "source": [
    "### set up credentials to connect to remote database"
   ]
  },
  {
   "cell_type": "code",
   "execution_count": 6,
   "metadata": {},
   "outputs": [],
   "source": [
    "# use the credentials provided in the course\n",
    "\n",
    "conn = {\n",
    "    'host': 'da-class-db.cxcjjheb3bem.us-east-1.rds.amazonaws.com',\n",
    "    'port': '3306',\n",
    "    'database': 'supermarket',\n",
    "    'username': 'brian_mukeswe',\n",
    "    'password': open('password.txt','r').read()\n",
    "    }"
   ]
  },
  {
   "cell_type": "markdown",
   "metadata": {},
   "source": [
    "### Write query to fetch all the supermarket data"
   ]
  },
  {
   "cell_type": "code",
   "execution_count": 7,
   "metadata": {},
   "outputs": [],
   "source": [
    "sqlQuery = '''\n",
    "    select timestamp, t3.product, t3.location, quantity, t2.price, t1.category, t1.unit_cost_of_goods\n",
    "    from transactions t3\n",
    "\n",
    "    left join prices t2 on t3.product=t2.product and t3.location=t2.location\n",
    "    left join products t1 on t3.product=t1.product\n",
    "\n",
    "    order by 1\n",
    "'''"
   ]
  },
  {
   "cell_type": "markdown",
   "metadata": {},
   "source": [
    "### run query to fetch the data"
   ]
  },
  {
   "cell_type": "code",
   "execution_count": 8,
   "metadata": {},
   "outputs": [],
   "source": [
    "# create connection string\n",
    "connectionString = f'mysql+pymysql://{conn[\"username\"]}:{conn[\"password\"]}@{conn[\"host\"]}/{conn[\"database\"]}'\n",
    "\n",
    "# create connection engine\n",
    "engine = create_engine(connectionString) \n",
    "\n",
    "# fetch the data\n",
    "supermarket = pd.read_sql(sql=sqlQuery, con=engine)"
   ]
  },
  {
   "cell_type": "markdown",
   "metadata": {},
   "source": [
    "### take a peek at the returned data"
   ]
  },
  {
   "cell_type": "code",
   "execution_count": 9,
   "metadata": {},
   "outputs": [
    {
     "data": {
      "text/html": [
       "<div>\n",
       "<style scoped>\n",
       "    .dataframe tbody tr th:only-of-type {\n",
       "        vertical-align: middle;\n",
       "    }\n",
       "\n",
       "    .dataframe tbody tr th {\n",
       "        vertical-align: top;\n",
       "    }\n",
       "\n",
       "    .dataframe thead th {\n",
       "        text-align: right;\n",
       "    }\n",
       "</style>\n",
       "<table border=\"1\" class=\"dataframe\">\n",
       "  <thead>\n",
       "    <tr style=\"text-align: right;\">\n",
       "      <th></th>\n",
       "      <th>timestamp</th>\n",
       "      <th>product</th>\n",
       "      <th>location</th>\n",
       "      <th>quantity</th>\n",
       "      <th>price</th>\n",
       "      <th>category</th>\n",
       "      <th>unit_cost_of_goods</th>\n",
       "    </tr>\n",
       "  </thead>\n",
       "  <tbody>\n",
       "    <tr>\n",
       "      <th>0</th>\n",
       "      <td>2021-03-01 07:00:00</td>\n",
       "      <td>loaves</td>\n",
       "      <td>location_2</td>\n",
       "      <td>10.0</td>\n",
       "      <td>3094.0</td>\n",
       "      <td>bakery</td>\n",
       "      <td>2000.0</td>\n",
       "    </tr>\n",
       "    <tr>\n",
       "      <th>1</th>\n",
       "      <td>2021-03-01 08:00:00</td>\n",
       "      <td>hand soap</td>\n",
       "      <td>location_2</td>\n",
       "      <td>25.0</td>\n",
       "      <td>3929.0</td>\n",
       "      <td>personal care</td>\n",
       "      <td>2300.0</td>\n",
       "    </tr>\n",
       "    <tr>\n",
       "      <th>2</th>\n",
       "      <td>2021-03-01 08:00:00</td>\n",
       "      <td>oranges</td>\n",
       "      <td>location_2</td>\n",
       "      <td>28.0</td>\n",
       "      <td>1474.0</td>\n",
       "      <td>fruits</td>\n",
       "      <td>800.0</td>\n",
       "    </tr>\n",
       "    <tr>\n",
       "      <th>3</th>\n",
       "      <td>2021-03-01 08:00:00</td>\n",
       "      <td>hand soap</td>\n",
       "      <td>location_2</td>\n",
       "      <td>16.0</td>\n",
       "      <td>3929.0</td>\n",
       "      <td>personal care</td>\n",
       "      <td>2300.0</td>\n",
       "    </tr>\n",
       "    <tr>\n",
       "      <th>4</th>\n",
       "      <td>2021-03-01 08:00:00</td>\n",
       "      <td>toilet paper</td>\n",
       "      <td>location_2</td>\n",
       "      <td>17.0</td>\n",
       "      <td>3164.0</td>\n",
       "      <td>toileteries</td>\n",
       "      <td>1700.0</td>\n",
       "    </tr>\n",
       "  </tbody>\n",
       "</table>\n",
       "</div>"
      ],
      "text/plain": [
       "            timestamp       product    location  quantity   price  \\\n",
       "0 2021-03-01 07:00:00        loaves  location_2      10.0  3094.0   \n",
       "1 2021-03-01 08:00:00     hand soap  location_2      25.0  3929.0   \n",
       "2 2021-03-01 08:00:00       oranges  location_2      28.0  1474.0   \n",
       "3 2021-03-01 08:00:00     hand soap  location_2      16.0  3929.0   \n",
       "4 2021-03-01 08:00:00  toilet paper  location_2      17.0  3164.0   \n",
       "\n",
       "        category  unit_cost_of_goods  \n",
       "0         bakery              2000.0  \n",
       "1  personal care              2300.0  \n",
       "2         fruits               800.0  \n",
       "3  personal care              2300.0  \n",
       "4    toileteries              1700.0  "
      ]
     },
     "execution_count": 9,
     "metadata": {},
     "output_type": "execute_result"
    }
   ],
   "source": [
    "supermarket.head()"
   ]
  },
  {
   "cell_type": "markdown",
   "metadata": {},
   "source": [
    "#### Generate a daily report summarizing the transaction information for each location. The report must include the follwoing information:\n",
    "- leading products\n",
    "- lagging products\n",
    "- busiest hours\n",
    "- slowest hours\n",
    "- cummulative month volumes"
   ]
  },
  {
   "cell_type": "code",
   "execution_count": 10,
   "metadata": {},
   "outputs": [
    {
     "data": {
      "text/html": [
       "<div>\n",
       "<style scoped>\n",
       "    .dataframe tbody tr th:only-of-type {\n",
       "        vertical-align: middle;\n",
       "    }\n",
       "\n",
       "    .dataframe tbody tr th {\n",
       "        vertical-align: top;\n",
       "    }\n",
       "\n",
       "    .dataframe thead th {\n",
       "        text-align: right;\n",
       "    }\n",
       "</style>\n",
       "<table border=\"1\" class=\"dataframe\">\n",
       "  <thead>\n",
       "    <tr style=\"text-align: right;\">\n",
       "      <th></th>\n",
       "      <th>timestamp</th>\n",
       "      <th>product</th>\n",
       "      <th>location</th>\n",
       "      <th>quantity</th>\n",
       "      <th>price</th>\n",
       "      <th>category</th>\n",
       "      <th>unit_cost_of_goods</th>\n",
       "      <th>revenue</th>\n",
       "      <th>date</th>\n",
       "    </tr>\n",
       "  </thead>\n",
       "  <tbody>\n",
       "    <tr>\n",
       "      <th>0</th>\n",
       "      <td>2021-03-01 07:00:00</td>\n",
       "      <td>loaves</td>\n",
       "      <td>location_2</td>\n",
       "      <td>10.0</td>\n",
       "      <td>3094.0</td>\n",
       "      <td>bakery</td>\n",
       "      <td>2000.0</td>\n",
       "      <td>30940.0</td>\n",
       "      <td>2021-03-01</td>\n",
       "    </tr>\n",
       "    <tr>\n",
       "      <th>1</th>\n",
       "      <td>2021-03-01 08:00:00</td>\n",
       "      <td>hand soap</td>\n",
       "      <td>location_2</td>\n",
       "      <td>25.0</td>\n",
       "      <td>3929.0</td>\n",
       "      <td>personal care</td>\n",
       "      <td>2300.0</td>\n",
       "      <td>98225.0</td>\n",
       "      <td>2021-03-01</td>\n",
       "    </tr>\n",
       "    <tr>\n",
       "      <th>2</th>\n",
       "      <td>2021-03-01 08:00:00</td>\n",
       "      <td>oranges</td>\n",
       "      <td>location_2</td>\n",
       "      <td>28.0</td>\n",
       "      <td>1474.0</td>\n",
       "      <td>fruits</td>\n",
       "      <td>800.0</td>\n",
       "      <td>41272.0</td>\n",
       "      <td>2021-03-01</td>\n",
       "    </tr>\n",
       "    <tr>\n",
       "      <th>3</th>\n",
       "      <td>2021-03-01 08:00:00</td>\n",
       "      <td>hand soap</td>\n",
       "      <td>location_2</td>\n",
       "      <td>16.0</td>\n",
       "      <td>3929.0</td>\n",
       "      <td>personal care</td>\n",
       "      <td>2300.0</td>\n",
       "      <td>62864.0</td>\n",
       "      <td>2021-03-01</td>\n",
       "    </tr>\n",
       "    <tr>\n",
       "      <th>4</th>\n",
       "      <td>2021-03-01 08:00:00</td>\n",
       "      <td>toilet paper</td>\n",
       "      <td>location_2</td>\n",
       "      <td>17.0</td>\n",
       "      <td>3164.0</td>\n",
       "      <td>toileteries</td>\n",
       "      <td>1700.0</td>\n",
       "      <td>53788.0</td>\n",
       "      <td>2021-03-01</td>\n",
       "    </tr>\n",
       "  </tbody>\n",
       "</table>\n",
       "</div>"
      ],
      "text/plain": [
       "            timestamp       product    location  quantity   price  \\\n",
       "0 2021-03-01 07:00:00        loaves  location_2      10.0  3094.0   \n",
       "1 2021-03-01 08:00:00     hand soap  location_2      25.0  3929.0   \n",
       "2 2021-03-01 08:00:00       oranges  location_2      28.0  1474.0   \n",
       "3 2021-03-01 08:00:00     hand soap  location_2      16.0  3929.0   \n",
       "4 2021-03-01 08:00:00  toilet paper  location_2      17.0  3164.0   \n",
       "\n",
       "        category  unit_cost_of_goods  revenue        date  \n",
       "0         bakery              2000.0  30940.0  2021-03-01  \n",
       "1  personal care              2300.0  98225.0  2021-03-01  \n",
       "2         fruits               800.0  41272.0  2021-03-01  \n",
       "3  personal care              2300.0  62864.0  2021-03-01  \n",
       "4    toileteries              1700.0  53788.0  2021-03-01  "
      ]
     },
     "execution_count": 10,
     "metadata": {},
     "output_type": "execute_result"
    }
   ],
   "source": [
    "# add revenue and date columns\n",
    "revenue = supermarket.price * supermarket.quantity\n",
    "revenue.name = 'revenue'\n",
    "\n",
    "date = supermarket.timestamp.apply(lambda d: str(d.__format__('%Y-%m-%d')))\n",
    "date.name = 'date'\n",
    "supermarket = pd.concat([supermarket, revenue, date], axis=1)\n",
    "supermarket.head()"
   ]
  },
  {
   "cell_type": "code",
   "execution_count": 13,
   "metadata": {},
   "outputs": [
    {
     "data": {
      "text/plain": [
       "<matplotlib.axes._subplots.AxesSubplot at 0x15afddbb400>"
      ]
     },
     "execution_count": 13,
     "metadata": {},
     "output_type": "execute_result"
    },
    {
     "data": {
      "image/png": "[encoded data removed]",
      "text/plain": [
       "<Figure size 432x576 with 1 Axes>"
      ]
     },
     "metadata": {},
     "output_type": "display_data"
    }
   ],
   "source": [
    "dateStr = '2021-03-12'\n",
    "dateData = supermarket.query(f'date==\"{dateStr}\"')\n",
    "\n",
    "# leading products\n",
    "products = dateData.groupby(['product','location'])\n",
    "products = products.revenue.sum().unstack(level=1)\n",
    "\n",
    "top5 = dateData.groupby('product').revenue.sum().sort_values(ascending=True)[-5:]\n",
    "top = filter(lambda i: any([i==p for p in top5.index]), products.index)\n",
    "\n",
    "\n",
    "products.loc[list(top)].sort_values(by='location_1').plot(kind='barh',\n",
    "                  figsize=(6,8),\n",
    "                  title='Top 5 Products by Revenue',\n",
    "                  stacked=True,\n",
    "                  )\n",
    "                  \n"
   ]
  },
  {
   "cell_type": "code",
   "execution_count": 98,
   "metadata": {},
   "outputs": [
    {
     "data": {
      "text/plain": [
       "<matplotlib.axes._subplots.AxesSubplot at 0x19f349f2438>"
      ]
     },
     "execution_count": 98,
     "metadata": {},
     "output_type": "execute_result"
    },
    {
     "data": {
      "image/png": "[encoded data removed]",
      "text/plain": [
       "<Figure size 432x576 with 1 Axes>"
      ]
     },
     "metadata": {},
     "output_type": "display_data"
    }
   ],
   "source": [
    "# lagging products\n",
    "products = dateData.groupby('product').revenue.sum().sort_values(ascending=True)\n",
    "\n",
    "products[:5].plot(kind='barh',\n",
    "                  figsize=(6,8),\n",
    "                  title='Bottom 5 Products by Revenue')"
   ]
  },
  {
   "cell_type": "markdown",
   "metadata": {},
   "source": [
    "### Busiest hour and slowest hour"
   ]
  },
  {
   "cell_type": "code",
   "execution_count": 47,
   "metadata": {},
   "outputs": [
    {
     "data": {
      "text/plain": [
       "<matplotlib.axes._subplots.AxesSubplot at 0x19f32e59be0>"
      ]
     },
     "execution_count": 47,
     "metadata": {},
     "output_type": "execute_result"
    },
    {
     "data": {
      "image/png": "[encoded data removed]",
      "text/plain": [
       "<Figure size 432x288 with 1 Axes>"
      ]
     },
     "metadata": {},
     "output_type": "display_data"
    }
   ],
   "source": [
    "hours = dateData.groupby('timestamp').product.count()\n",
    "hours.plot(kind='bar')"
   ]
  },
  {
   "cell_type": "markdown",
   "metadata": {},
   "source": [
    "### Cummulative trend"
   ]
  },
  {
   "cell_type": "code",
   "execution_count": 14,
   "metadata": {},
   "outputs": [
    {
     "data": {
      "text/html": [
       "<div>\n",
       "<style scoped>\n",
       "    .dataframe tbody tr th:only-of-type {\n",
       "        vertical-align: middle;\n",
       "    }\n",
       "\n",
       "    .dataframe tbody tr th {\n",
       "        vertical-align: top;\n",
       "    }\n",
       "\n",
       "    .dataframe thead th {\n",
       "        text-align: right;\n",
       "    }\n",
       "</style>\n",
       "<table border=\"1\" class=\"dataframe\">\n",
       "  <thead>\n",
       "    <tr style=\"text-align: right;\">\n",
       "      <th>location</th>\n",
       "      <th>location_1</th>\n",
       "      <th>location_2</th>\n",
       "      <th>location_3</th>\n",
       "      <th>location_4</th>\n",
       "      <th>location_5</th>\n",
       "    </tr>\n",
       "    <tr>\n",
       "      <th>date</th>\n",
       "      <th></th>\n",
       "      <th></th>\n",
       "      <th></th>\n",
       "      <th></th>\n",
       "      <th></th>\n",
       "    </tr>\n",
       "  </thead>\n",
       "  <tbody>\n",
       "    <tr>\n",
       "      <th>2021-03-01</th>\n",
       "      <td>2789076.0</td>\n",
       "      <td>5726332.0</td>\n",
       "      <td>2391271.0</td>\n",
       "      <td>2329652.0</td>\n",
       "      <td>2642341.0</td>\n",
       "    </tr>\n",
       "    <tr>\n",
       "      <th>2021-03-02</th>\n",
       "      <td>2114024.0</td>\n",
       "      <td>4818970.0</td>\n",
       "      <td>2926219.0</td>\n",
       "      <td>2172263.0</td>\n",
       "      <td>2817364.0</td>\n",
       "    </tr>\n",
       "    <tr>\n",
       "      <th>2021-03-03</th>\n",
       "      <td>2527344.0</td>\n",
       "      <td>4022612.0</td>\n",
       "      <td>1796802.0</td>\n",
       "      <td>2939719.0</td>\n",
       "      <td>3131008.0</td>\n",
       "    </tr>\n",
       "    <tr>\n",
       "      <th>2021-03-04</th>\n",
       "      <td>2885834.0</td>\n",
       "      <td>4098081.0</td>\n",
       "      <td>1646225.0</td>\n",
       "      <td>1861291.0</td>\n",
       "      <td>2073700.0</td>\n",
       "    </tr>\n",
       "    <tr>\n",
       "      <th>2021-03-05</th>\n",
       "      <td>2501974.0</td>\n",
       "      <td>3591962.0</td>\n",
       "      <td>2645653.0</td>\n",
       "      <td>2320182.0</td>\n",
       "      <td>2583739.0</td>\n",
       "    </tr>\n",
       "  </tbody>\n",
       "</table>\n",
       "</div>"
      ],
      "text/plain": [
       "location    location_1  location_2  location_3  location_4  location_5\n",
       "date                                                                  \n",
       "2021-03-01   2789076.0   5726332.0   2391271.0   2329652.0   2642341.0\n",
       "2021-03-02   2114024.0   4818970.0   2926219.0   2172263.0   2817364.0\n",
       "2021-03-03   2527344.0   4022612.0   1796802.0   2939719.0   3131008.0\n",
       "2021-03-04   2885834.0   4098081.0   1646225.0   1861291.0   2073700.0\n",
       "2021-03-05   2501974.0   3591962.0   2645653.0   2320182.0   2583739.0"
      ]
     },
     "execution_count": 14,
     "metadata": {},
     "output_type": "execute_result"
    }
   ],
   "source": [
    "dateStr = '2021-03-05'\n",
    "toDate =  supermarket.query(f'date<=\"{dateStr}\"')\n",
    "toDate = toDate.groupby(['date','location']).sum().revenue.unstack(level=1)\n",
    "toDate"
   ]
  },
  {
   "cell_type": "code",
   "execution_count": 107,
   "metadata": {},
   "outputs": [
    {
     "data": {
      "text/html": [
       "<div>\n",
       "<style scoped>\n",
       "    .dataframe tbody tr th:only-of-type {\n",
       "        vertical-align: middle;\n",
       "    }\n",
       "\n",
       "    .dataframe tbody tr th {\n",
       "        vertical-align: top;\n",
       "    }\n",
       "\n",
       "    .dataframe thead th {\n",
       "        text-align: right;\n",
       "    }\n",
       "</style>\n",
       "<table border=\"1\" class=\"dataframe\">\n",
       "  <thead>\n",
       "    <tr style=\"text-align: right;\">\n",
       "      <th>location</th>\n",
       "      <th>location_1</th>\n",
       "      <th>location_2</th>\n",
       "      <th>location_3</th>\n",
       "      <th>location_4</th>\n",
       "      <th>location_5</th>\n",
       "    </tr>\n",
       "    <tr>\n",
       "      <th>date</th>\n",
       "      <th></th>\n",
       "      <th></th>\n",
       "      <th></th>\n",
       "      <th></th>\n",
       "      <th></th>\n",
       "    </tr>\n",
       "  </thead>\n",
       "  <tbody>\n",
       "    <tr>\n",
       "      <th>2021-03-01</th>\n",
       "      <td>2789076.0</td>\n",
       "      <td>5726332.0</td>\n",
       "      <td>2391271.0</td>\n",
       "      <td>2329652.0</td>\n",
       "      <td>2642341.0</td>\n",
       "    </tr>\n",
       "    <tr>\n",
       "      <th>2021-03-02</th>\n",
       "      <td>4903100.0</td>\n",
       "      <td>10545302.0</td>\n",
       "      <td>5317490.0</td>\n",
       "      <td>4501915.0</td>\n",
       "      <td>5459705.0</td>\n",
       "    </tr>\n",
       "    <tr>\n",
       "      <th>2021-03-03</th>\n",
       "      <td>7430444.0</td>\n",
       "      <td>14567914.0</td>\n",
       "      <td>7114292.0</td>\n",
       "      <td>7441634.0</td>\n",
       "      <td>8590713.0</td>\n",
       "    </tr>\n",
       "    <tr>\n",
       "      <th>2021-03-04</th>\n",
       "      <td>10316278.0</td>\n",
       "      <td>18665995.0</td>\n",
       "      <td>8760517.0</td>\n",
       "      <td>9302925.0</td>\n",
       "      <td>10664413.0</td>\n",
       "    </tr>\n",
       "    <tr>\n",
       "      <th>2021-03-05</th>\n",
       "      <td>12818252.0</td>\n",
       "      <td>22257957.0</td>\n",
       "      <td>11406170.0</td>\n",
       "      <td>11623107.0</td>\n",
       "      <td>13248152.0</td>\n",
       "    </tr>\n",
       "    <tr>\n",
       "      <th>2021-03-06</th>\n",
       "      <td>14571376.0</td>\n",
       "      <td>26562640.0</td>\n",
       "      <td>13337988.0</td>\n",
       "      <td>13575460.0</td>\n",
       "      <td>15931751.0</td>\n",
       "    </tr>\n",
       "    <tr>\n",
       "      <th>2021-03-07</th>\n",
       "      <td>17690985.0</td>\n",
       "      <td>30399014.0</td>\n",
       "      <td>15531296.0</td>\n",
       "      <td>16294545.0</td>\n",
       "      <td>18604887.0</td>\n",
       "    </tr>\n",
       "    <tr>\n",
       "      <th>2021-03-08</th>\n",
       "      <td>20027053.0</td>\n",
       "      <td>35352562.0</td>\n",
       "      <td>17755196.0</td>\n",
       "      <td>19457561.0</td>\n",
       "      <td>20772710.0</td>\n",
       "    </tr>\n",
       "    <tr>\n",
       "      <th>2021-03-09</th>\n",
       "      <td>23013849.0</td>\n",
       "      <td>38857264.0</td>\n",
       "      <td>19692402.0</td>\n",
       "      <td>22225386.0</td>\n",
       "      <td>22026044.0</td>\n",
       "    </tr>\n",
       "    <tr>\n",
       "      <th>2021-03-10</th>\n",
       "      <td>25735551.0</td>\n",
       "      <td>43550433.0</td>\n",
       "      <td>21949908.0</td>\n",
       "      <td>24223224.0</td>\n",
       "      <td>23817078.0</td>\n",
       "    </tr>\n",
       "    <tr>\n",
       "      <th>2021-03-11</th>\n",
       "      <td>27336706.0</td>\n",
       "      <td>47753794.0</td>\n",
       "      <td>23500841.0</td>\n",
       "      <td>26750310.0</td>\n",
       "      <td>26735478.0</td>\n",
       "    </tr>\n",
       "    <tr>\n",
       "      <th>2021-03-12</th>\n",
       "      <td>30421434.0</td>\n",
       "      <td>53238132.0</td>\n",
       "      <td>25429174.0</td>\n",
       "      <td>28708970.0</td>\n",
       "      <td>28950365.0</td>\n",
       "    </tr>\n",
       "  </tbody>\n",
       "</table>\n",
       "</div>"
      ],
      "text/plain": [
       "location    location_1  location_2  location_3  location_4  location_5\n",
       "date                                                                  \n",
       "2021-03-01   2789076.0   5726332.0   2391271.0   2329652.0   2642341.0\n",
       "2021-03-02   4903100.0  10545302.0   5317490.0   4501915.0   5459705.0\n",
       "2021-03-03   7430444.0  14567914.0   7114292.0   7441634.0   8590713.0\n",
       "2021-03-04  10316278.0  18665995.0   8760517.0   9302925.0  10664413.0\n",
       "2021-03-05  12818252.0  22257957.0  11406170.0  11623107.0  13248152.0\n",
       "2021-03-06  14571376.0  26562640.0  13337988.0  13575460.0  15931751.0\n",
       "2021-03-07  17690985.0  30399014.0  15531296.0  16294545.0  18604887.0\n",
       "2021-03-08  20027053.0  35352562.0  17755196.0  19457561.0  20772710.0\n",
       "2021-03-09  23013849.0  38857264.0  19692402.0  22225386.0  22026044.0\n",
       "2021-03-10  25735551.0  43550433.0  21949908.0  24223224.0  23817078.0\n",
       "2021-03-11  27336706.0  47753794.0  23500841.0  26750310.0  26735478.0\n",
       "2021-03-12  30421434.0  53238132.0  25429174.0  28708970.0  28950365.0"
      ]
     },
     "execution_count": 107,
     "metadata": {},
     "output_type": "execute_result"
    }
   ],
   "source": [
    "toDateCum = toDate.cumsum()\n",
    "toDateCum"
   ]
  },
  {
   "cell_type": "code",
   "execution_count": 109,
   "metadata": {},
   "outputs": [
    {
     "data": {
      "text/plain": [
       "<matplotlib.axes._subplots.AxesSubplot at 0x19f349ecb00>"
      ]
     },
     "execution_count": 109,
     "metadata": {},
     "output_type": "execute_result"
    },
    {
     "data": {
      "image/png": "[encoded data removed]",
      "text/plain": [
       "<Figure size 864x432 with 1 Axes>"
      ]
     },
     "metadata": {},
     "output_type": "display_data"
    }
   ],
   "source": [
    "toDateCum.plot(kind='line', figsize=(12,6))"
   ]
  },
  {
   "cell_type": "code",
   "execution_count": 110,
   "metadata": {},
   "outputs": [
    {
     "data": {
      "text/plain": [
       "<matplotlib.axes._subplots.AxesSubplot at 0x19f3342e630>"
      ]
     },
     "execution_count": 110,
     "metadata": {},
     "output_type": "execute_result"
    },
    {
     "data": {
      "image/png": "[encoded data removed]",
      "text/plain": [
       "<Figure size 864x432 with 1 Axes>"
      ]
     },
     "metadata": {},
     "output_type": "display_data"
    }
   ],
   "source": [
    "toDateCum.plot(kind='bar', figsize=(12,6), stacked=True)"
   ]
  },
  {
   "cell_type": "code",
   "execution_count": null,
   "metadata": {},
   "outputs": [],
   "source": []
  }
 ],
 "metadata": {
  "interpreter": {
   "hash": "b3ba2566441a7c06988d0923437866b63cedc61552a5af99d1f4fb67d367b25f"
  },
  "kernelspec": {
   "display_name": "Python 3.6.4 ('base')",
   "language": "python",
   "name": "python3"
  },
  "language_info": {
   "codemirror_mode": {
    "name": "ipython",
    "version": 3
   },
   "file_extension": ".py",
   "mimetype": "text/x-python",
   "name": "python",
   "nbconvert_exporter": "python",
   "pygments_lexer": "ipython3",
   "version": "3.6.4"
  },
  "orig_nbformat": 4
 },
 "nbformat": 4,
 "nbformat_minor": 2
}
